{
 "cells": [
  {
   "cell_type": "markdown",
   "id": "c76573fb",
   "metadata": {},
   "source": [
    "### Libraries"
   ]
  },
  {
   "cell_type": "code",
   "execution_count": null,
   "id": "95a35065",
   "metadata": {},
   "outputs": [],
   "source": [
    "import re\n",
    "import os\n",
    "import copy\n",
    "import angr\n",
    "import pickle\n",
    "import monkeyhex\n",
    "import networkx as nx\n",
    "\n",
    "from time import time\n",
    "from collections import Counter, deque"
   ]
  },
  {
   "cell_type": "markdown",
   "id": "63c627fb",
   "metadata": {},
   "source": [
    "### Functions"
   ]
  },
  {
   "cell_type": "code",
   "execution_count": null,
   "id": "ceecea82",
   "metadata": {},
   "outputs": [],
   "source": [
    "def store_as_list_of_dicts(file_name, graph_data):\n",
    "    \"\"\"\n",
    "    Save all graphs into a pickle file which can be later read by other program for intrusion detection\n",
    "    \"\"\"\n",
    "    list_of_dicts = [(func_name, nx.to_dict_of_dicts(graph)) for func_name, graph in graph_data.items()]\n",
    "    with open(f'{file_name}.pkl', 'wb') as f:\n",
    "        pickle.dump(list_of_dicts, f)"
   ]
  },
  {
   "cell_type": "code",
   "execution_count": null,
   "id": "5b071337",
   "metadata": {
    "code_folding": []
   },
   "outputs": [],
   "source": [
    "def get_node_with_func_name(cfg, func_name = 'main', func_addr = None):\n",
    "    \"\"\"\n",
    "    Retursn FuncNode of a function with name provided along with angr-disassembly data.\n",
    "    Can use func_addr if found multiple functions with same name\n",
    "    \"\"\"\n",
    "    functions = cfg.functions.values()\n",
    "    for func in functions:\n",
    "        if (func_addr is None) and (func.name == func_name):\n",
    "            return func\n",
    "        if (func_addr is not None) and (func_name == func.name) and (int(func_addr) == func.addr):\n",
    "            return func"
   ]
  },
  {
   "cell_type": "code",
   "execution_count": null,
   "id": "82eabb0d",
   "metadata": {
    "code_folding": []
   },
   "outputs": [],
   "source": [
    "def resolve(main_node, sub_node):\n",
    "    \"\"\"\n",
    "    There can be multiple copies of a single function node. This function resolves it \n",
    "    by always selecting first one. Need to discuss to fix this.\n",
    "    \"\"\"\n",
    "    result = []\n",
    "    valid_edges = list(main_node.transition_graph.edges() - main_node.graph.edges())\n",
    "    for e1, e2 in valid_edges:\n",
    "        if e2.addr in sub_node:\n",
    "            result.append(e2)\n",
    "    if len(result) > 1:\n",
    "        print(f'Multiple instaces of function  {main_node.name} found, need to fix')\n",
    "    return result[0].addr"
   ]
  },
  {
   "cell_type": "code",
   "execution_count": null,
   "id": "8e212d0b",
   "metadata": {
    "code_folding": []
   },
   "outputs": [],
   "source": [
    "def get_all_inst_add(disas_string_list):\n",
    "    \"\"\"\n",
    "    Provided with a list of a function disassemble string it gives all the \n",
    "    instruction address present for that function\n",
    "    \"\"\"\n",
    "    address_values = []\n",
    "    for inst_data in disas_string_list:\n",
    "        inst_split_data = inst_data.strip()\n",
    "        if inst_split_data != []:\n",
    "            match = re.findall('(\\d\\w+)\\s+', inst_split_data)\n",
    "            if match:\n",
    "                address_values.append(int(match[0], 16))\n",
    "    return address_values"
   ]
  },
  {
   "cell_type": "code",
   "execution_count": null,
   "id": "fb62f37e",
   "metadata": {
    "code_folding": []
   },
   "outputs": [],
   "source": [
    "def get_missing_sys_call_data(node):\n",
    "    \"\"\"\n",
    "    Incase system call is present but not identified (require Dataflow analysis) angr does some\n",
    "    dataflow analysis itself and tell which system call it belong to.\n",
    "    \"\"\"\n",
    "    add_sys_call_data = {}\n",
    "    data = (node.transition_graph.edges() - node.graph.edges())\n",
    "    for e1, e2 in data:\n",
    "        if isinstance(e2, angr.knowledge_plugins.functions.function.Function) and e2.is_syscall and (e2.name in valid_sys_calls):\n",
    "            add_sys_call_data[e1.addr] = e2.name\n",
    "    return add_sys_call_data"
   ]
  },
  {
   "cell_type": "code",
   "execution_count": null,
   "id": "693c2a19",
   "metadata": {
    "code_folding": []
   },
   "outputs": [],
   "source": [
    "def is_hex(value):\n",
    "    \"\"\"\n",
    "    Returns boolean value based on whether its a hexadecimal character or not\n",
    "    \"\"\"\n",
    "    try:\n",
    "        int(value, 16)\n",
    "        return True\n",
    "    except Exception as e:\n",
    "        return False"
   ]
  },
  {
   "cell_type": "code",
   "execution_count": null,
   "id": "6d133c0a",
   "metadata": {
    "code_folding": []
   },
   "outputs": [],
   "source": [
    "def get_graph_label_data(cfg, func_name, valid_func_nodes_names, mapping_data, s_mapping_data):\n",
    "    \"\"\"\n",
    "    Heart of the entire program. This program basically maps all the instruction of a function node\n",
    "    disassemble string respectively. We consider only \"calls\" and \"jmps\" rest all instructions are made\n",
    "    nops and later resolved to obtain the graph structure. \n",
    "    \"\"\"\n",
    "    to_resolve = []\n",
    "    f_name, f_addr = func_name.split('-')\n",
    "    func_node = get_node_with_func_name(cfg, f_name, f_addr)\n",
    "    addr_inst_data_string = cfg.project.analyses.Disassembly(func_node).render()\n",
    "    addr_inst_data = addr_inst_data_string.split('\\n')\n",
    "    current_jumps = 0\n",
    "    final_data = {}\n",
    "    ret_addr_values = []\n",
    "    global counter2\n",
    "    for label_data in addr_inst_data:\n",
    "        label_data = label_data.strip()\n",
    "        matches = re.findall(f'(\\d\\w+)\\s*({jumps_string})\\s*(\\w+)', label_data)\n",
    "        matches1 = re.findall(f'(\\d\\w+)\\s*(ret)', label_data)\n",
    "        if matches:\n",
    "            if (matches[0][1] == 'call') and (matches[0][2] in valid_func_nodes_names):\n",
    "                matches = matches[0]\n",
    "                match_node = mapping_data[matches[2]]\n",
    "                if len(match_node) > 1:\n",
    "                    req_addr = resolve(func_node, match_node)\n",
    "                else:\n",
    "                    req_addr = match_node[0]\n",
    "                to_resolve_string = f'{matches[2]}-{req_addr}'\n",
    "                final_data[int(matches[0], 16)] = to_resolve_string\n",
    "                to_resolve.append(to_resolve_string)\n",
    "            elif matches[0][1] != 'call':\n",
    "                matches = matches[0]\n",
    "                if not is_hex(matches[2]) and (matches[2] in valid_func_nodes_names):\n",
    "                    match_node = mapping_data[matches[2]]\n",
    "                    if len(match_node) > 1:\n",
    "                        req_addr = resolve(func_node, match_node)\n",
    "                    else:\n",
    "                        req_addr = match_node[0]\n",
    "                    to_resolve_string = f'{matches[2]}-{req_addr}'\n",
    "                    final_data[int(matches[0], 16)] = to_resolve_string\n",
    "                    to_resolve.append(to_resolve_string)\n",
    "                else:\n",
    "                    final_data[int(matches[0], 16)] = 'ep'\n",
    "                    counter2 += 1\n",
    "        if matches1:\n",
    "            ret_addr_values.append(matches1[0][0])\n",
    "    addr_values = get_all_inst_add(addr_inst_data)\n",
    "    start_addr, end_addr = addr_values[0], addr_values[-1]\n",
    "    remaining_addr = set(addr_values) - set(final_data.keys())\n",
    "    for index, addr_value in enumerate(remaining_addr):\n",
    "        final_data[addr_value] = f'nop-{index}'\n",
    "    add_sys_call_mapping = get_missing_sys_call_data(func_node)\n",
    "    for addr, sys_call in add_sys_call_mapping.items():\n",
    "        sys_node = s_mapping_data[sys_call]\n",
    "        sys_string = f'{sys_call}-{sys_node}'\n",
    "        final_data[addr] = sys_string\n",
    "        to_resolve.append(sys_string)\n",
    "    for ret_addr in ret_addr_values:\n",
    "        final_data[int(ret_addr, 16)] = f'ret-end'\n",
    "    return final_data, set(to_resolve)"
   ]
  },
  {
   "cell_type": "code",
   "execution_count": null,
   "id": "d916c191",
   "metadata": {
    "code_folding": []
   },
   "outputs": [],
   "source": [
    "def get_degree_nodes(graph_data):\n",
    "    \"\"\"\n",
    "    Returns source and sink among all nodes given graph data\n",
    "    \"\"\"\n",
    "    in_d, out_d = [], []\n",
    "    self_loop_data = set(nx.nodes_with_selfloops(graph_data))\n",
    "    for node in graph_data.nodes():\n",
    "        n_out_d = graph_data.out_degree(node)\n",
    "        n_in_d = graph_data.in_degree(node)\n",
    "        if (not n_in_d) or ((n_in_d == 1) and (node in self_loop_data)):\n",
    "            in_d.append(node)\n",
    "        if (not n_out_d) or ((n_out_d == 1) and (node in self_loop_data)):\n",
    "            out_d.append(node)\n",
    "    return in_d, out_d"
   ]
  },
  {
   "cell_type": "code",
   "execution_count": null,
   "id": "728798b2",
   "metadata": {
    "code_folding": []
   },
   "outputs": [],
   "source": [
    "def find_mergable_nodes(graph_data, label_data):\n",
    "    \"\"\"\n",
    "    All the nop which were previosuly marked are now merged together\n",
    "    \"\"\"\n",
    "    final_nodes = []\n",
    "    for node in graph_data.nodes:\n",
    "        label_value = label_data[node]\n",
    "        if not label_value.startswith('nop-'):\n",
    "            continue\n",
    "        else:\n",
    "            final_nodes.append(node)\n",
    "    return final_nodes"
   ]
  },
  {
   "cell_type": "code",
   "execution_count": null,
   "id": "d4062b72",
   "metadata": {
    "code_folding": []
   },
   "outputs": [],
   "source": [
    "def merge_nodes(nodes_data, graph_data):\n",
    "    \"\"\"\n",
    "    Arranges the edges and removes node values accordingly.\n",
    "    \"\"\"\n",
    "    for node in nodes_data:\n",
    "        succ_nodes = list(graph_data.successors(node))\n",
    "        pre_nodes = list(graph_data.predecessors(node))\n",
    "        for pre_node in pre_nodes:\n",
    "            for suc_node in succ_nodes:\n",
    "                graph_data.add_edge(pre_node, suc_node)\n",
    "        graph_data.remove_node(node)\n",
    "    return graph_data"
   ]
  },
  {
   "cell_type": "code",
   "execution_count": null,
   "id": "1226e033",
   "metadata": {
    "code_folding": []
   },
   "outputs": [],
   "source": [
    "def to_edge_based(graph_data, label_data, func_name):\n",
    "    \"\"\"\n",
    "    Adds edge labels based on the e2 node and returns the data which will be used in future.\n",
    "    \"\"\"\n",
    "    attrib_data = {}\n",
    "    for node in graph_data.nodes():\n",
    "        node_label = label_data[node]\n",
    "        pre_nodes = list(graph_data.predecessors(node))\n",
    "        for pre_node in pre_nodes:\n",
    "            if node_label.endswith('end'):\n",
    "                attrib_data[(pre_node, node)] = {\"label\": 'ep'}                    \n",
    "            else:   \n",
    "                attrib_data[(pre_node, node)] = {\"label\": node_label}\n",
    "    return attrib_data"
   ]
  },
  {
   "cell_type": "code",
   "execution_count": null,
   "id": "a6c464c2",
   "metadata": {
    "code_folding": []
   },
   "outputs": [],
   "source": [
    "def merge_graph(graph_data, label_data, func_name):\n",
    "    '''\n",
    "    Once the inst-func data is obtained this function is called which then merges\n",
    "    are the nops in the data finally giving us structred representation of graph.\n",
    "    '''\n",
    "    f_name, f_addr = func_name.split('-')\n",
    "    temp_label_data = {}\n",
    "    in_nodes, out_nodes = get_degree_nodes(graph_data)\n",
    "    global global_address_counter\n",
    "    done = True\n",
    "    while done:\n",
    "        done = False\n",
    "        nodes_data = find_mergable_nodes(graph_data, label_data)\n",
    "        if nodes_data:\n",
    "            done = True\n",
    "            graph_data = merge_nodes([nodes_data[0]], graph_data)\n",
    "    attr_data = to_edge_based(graph_data, label_data, func_name)\n",
    "    nx.set_edge_attributes(graph_data, attr_data)\n",
    "    n_nodes = len(graph_data.nodes())\n",
    "    if not n_nodes:\n",
    "        graph_data.add_node(global_address_counter)\n",
    "        temp_label_data[global_address_counter]=f'{f_name}-start'\n",
    "        global_address_counter += 1\n",
    "        temp_label_data[global_address_counter]=f'{f_name}-end'\n",
    "        global_address_counter += 1\n",
    "        graph_data.add_edge(global_address_counter-2, global_address_counter-1, label='ep')\n",
    "    else:\n",
    "        in_nodes, out_nodes = get_degree_nodes(graph_data)\n",
    "        if not len(in_nodes):\n",
    "            in_nodes = [sorted(graph_data.nodes())[-1]]\n",
    "        graph_data.add_node(global_address_counter)\n",
    "        for in_node in in_nodes:\n",
    "            graph_data.add_edge(global_address_counter, in_node, label=label_data[in_node])\n",
    "        temp_label_data[global_address_counter]=f'{f_name}-start'\n",
    "        global_address_counter += 1\n",
    "        if len(out_nodes) > 1:\n",
    "            for out_node in out_nodes:\n",
    "                graph_data.add_edge(out_node, global_address_counter, label='ep')\n",
    "            temp_label_data[global_address_counter]=f'{f_name}-end'\n",
    "            global_address_counter += 1\n",
    "    return graph_data, temp_label_data"
   ]
  },
  {
   "cell_type": "code",
   "execution_count": null,
   "id": "d84af0e6",
   "metadata": {
    "code_folding": []
   },
   "outputs": [],
   "source": [
    "def replace_edge_label(graph_data, current_edge_value, label_data, ignore_list):\n",
    "    \"\"\"\n",
    "    Add '_syscall' to valid syscall edges which helps in differentiating between system call and library call.\n",
    "    \"\"\"\n",
    "    new_edge_data = {}\n",
    "    new_edge_value = f\"{current_edge_value.split('-')[0]}_syscall\"\n",
    "    for e1, e2 in graph_data.edges():\n",
    "        label_value = graph_data[e1][e2]['label']\n",
    "        if label_value == current_edge_value:\n",
    "            new_edge_data[(e1, e2)] = {'label': new_edge_value}\n",
    "        elif (label_value == 'ep') or label_value.endswith('-end') or label_value.startswith('jmp'):\n",
    "            new_edge_data[(e1, e2)] = {'label': 'ep'}\n",
    "    nx.set_edge_attributes(graph_data, new_edge_data)\n",
    "    return graph_data"
   ]
  },
  {
   "cell_type": "code",
   "execution_count": null,
   "id": "9ae5ad3b",
   "metadata": {
    "code_folding": []
   },
   "outputs": [],
   "source": [
    "def get_valid_func_nodes(functions, valid_sys_calls):\n",
    "    \"\"\"\n",
    "    Keeps only those function nodes which calls a system call at the end.\n",
    "    \"\"\"\n",
    "    cyclic_functions = set()\n",
    "    valid_func_nodes = []\n",
    "    for func_node in functions:\n",
    "        if (func_node.is_syscall and (func_node.name in valid_sys_calls)):\n",
    "            valid_func_nodes.append(func_node)\n",
    "        elif len(func_node.get_call_sites()):\n",
    "            valid_func_nodes.append(func_node)\n",
    "    # Eliminating the functions which need help of dataflow analysis to know which func they are \n",
    "    # calling Ex :- __tfind.\n",
    "    done = False\n",
    "    while True:\n",
    "        valid_func_nodes_cpy = valid_func_nodes.copy()\n",
    "        if done:\n",
    "            break\n",
    "        done = True\n",
    "        for node in valid_func_nodes_cpy:\n",
    "            if node.is_syscall:\n",
    "                continue\n",
    "            edge_data = list(node.transition_graph.edges() - node.graph.edges())\n",
    "            valid_func_length = len(edge_data)\n",
    "            curr_invalid_length = 0            \n",
    "            for e1, e2 in edge_data:\n",
    "                if e2 not in valid_func_nodes_cpy:\n",
    "                    curr_invalid_length += 1                    \n",
    "            if curr_invalid_length == valid_func_length:\n",
    "                valid_func_nodes.remove(node)\n",
    "                done = False\n",
    "    valid_func_node_names = set()\n",
    "    to_remove = []\n",
    "    for index, func_node_data in enumerate(valid_func_nodes):\n",
    "        if func_node_data.name in cyclic_functions:\n",
    "            to_remove.append(index)\n",
    "            continue\n",
    "        valid_func_node_names.add(func_node_data.name)\n",
    "    for index in sorted(to_remove, reverse=True):\n",
    "        del valid_func_nodes[index]\n",
    "    return valid_func_nodes, valid_func_node_names"
   ]
  },
  {
   "cell_type": "code",
   "execution_count": null,
   "id": "60b5e370",
   "metadata": {
    "code_folding": []
   },
   "outputs": [],
   "source": [
    "def get_adjacent_node(node_value, _type, graph):\n",
    "    \"\"\"\n",
    "    Returns node which form a edge based on the type provided by user.\n",
    "    \"\"\"\n",
    "    if _type == 'pre':\n",
    "        return [n2 for n1, n2 in graph.edges() if n1 == node_value]\n",
    "    else:\n",
    "        return [n1 for n1, n2 in graph.edges() if n2 == node_value]"
   ]
  },
  {
   "cell_type": "code",
   "execution_count": null,
   "id": "ef9e106f",
   "metadata": {
    "code_folding": []
   },
   "outputs": [],
   "source": [
    "def remove_epsilon_nodes(G):\n",
    "    \"\"\"\n",
    "    Different conditions that are used to remove epsilon edges from the graph to as extent as possible.\n",
    "    \"\"\"\n",
    "    changed = False\n",
    "    _break = False\n",
    "    while True:\n",
    "        data = edges_with_epsilon_remove(G)\n",
    "        to_remove_node = None\n",
    "        current_type = None\n",
    "        for n1, n2, _type in data:\n",
    "            if _type is None:\n",
    "                _break = True\n",
    "                break\n",
    "            elif _type == 'self':\n",
    "                G.remove_edge(n1, n2)\n",
    "            elif _type == 'pre':\n",
    "                current_type = 'pre'\n",
    "                to_remove_node = n1\n",
    "                pre_nodes = list(G.predecessors(n1))\n",
    "                G.remove_edge(n1, n2)\n",
    "                for node_x in pre_nodes:\n",
    "                    G.add_edge(node_x, n2, label=G[node_x][n1]['label'])\n",
    "            else:\n",
    "                current_type = 'succ'\n",
    "                to_remove_node = n2\n",
    "                succ_nodes = list(G.successors(n2))\n",
    "                G.remove_edge(n1, n2)\n",
    "                for node_x in succ_nodes:\n",
    "                    G.add_edge(n1, node_x, label=G[n2][node_x]['label'])\n",
    "        if to_remove_node is not None:\n",
    "            changed = True\n",
    "            nodes = get_adjacent_node(to_remove_node, current_type, G)\n",
    "            if current_type == 'succ':\n",
    "                for node_v in nodes:\n",
    "                    G.remove_edge(node_v, to_remove_node)\n",
    "            else:\n",
    "                for node_v in nodes:\n",
    "                    G.remove_edge(to_remove_node, node_v)\n",
    "            G.remove_node(to_remove_node)\n",
    "        if _break:\n",
    "            break\n",
    "    return G, changed"
   ]
  },
  {
   "cell_type": "code",
   "execution_count": null,
   "id": "8f62427f",
   "metadata": {
    "code_folding": []
   },
   "outputs": [],
   "source": [
    "def edges_with_epsilon_remove(G):\n",
    "    \"\"\"\n",
    "    Helper function which calculates the edges that need to be removed and returns the required data.\n",
    "    \"\"\"\n",
    "    _type = None\n",
    "    in_nodes, out_nodes = get_degree_nodes(G)\n",
    "    in_node, out_node = None, None\n",
    "    if len(in_nodes):\n",
    "        in_node = in_nodes[0]\n",
    "    if len(out_nodes):\n",
    "        out_node = out_nodes[0]\n",
    "    edges_data = list(G.edges())\n",
    "    if len(edges_data) == 1:\n",
    "        return [(None, None, _type)]\n",
    "    for n1, n2 in edges_data:\n",
    "        try:\n",
    "            label_value = G[n1][n2]['label']\n",
    "        except Exception as e:\n",
    "            print(n1, n2)\n",
    "            import pdb;pdb.set_trace()\n",
    "        if label_value == 'ep':\n",
    "            if n1 == n2:\n",
    "                return [(n1, n2 , 'self')]\n",
    "            else:\n",
    "                n1_pre_nodes = list(G.predecessors(n1))\n",
    "                n1_succ_nodes = list(G.successors(n1))\n",
    "                n2_pre_nodes = list(G.predecessors(n2))\n",
    "                n2_succ_nodes = list(G.successors(n2))\n",
    "                n1_pre_len, n2_pre_len, n1_succ_len, n2_succ_len = len(n1_pre_nodes), len(n2_pre_nodes), len(n1_succ_nodes), len(n2_succ_nodes)\n",
    "                if len(set(n1_pre_nodes) & set(n2_succ_nodes)):\n",
    "                    continue\n",
    "                if ((not n1_pre_len) and (n1_succ_len == 1)) or ((n1_pre_len == 1) and (n1_succ_len == 1) and (n2_succ_len == 1)):\n",
    "                    return [(n1, n2, 'pre')]\n",
    "                if ((not n2_succ_len) and (n2_pre_len == 1)) or ((n2_pre_len == 1) and (n2_succ_len == 1) and (n1_succ_len == 1)):\n",
    "                    return [(n1, n2, 'succ')]\n",
    "                if n2_succ_len < n1_pre_len:\n",
    "                    if n2_pre_len == 1:\n",
    "                        return [(n1, n2, 'succ')]\n",
    "                    else:\n",
    "                        pass\n",
    "                if n1_pre_len < n2_succ_len:\n",
    "                    if n1_succ_len == 1:\n",
    "                        return [(n1, n2, 'pre')]\n",
    "                    else:\n",
    "                        pass\n",
    "                if (n1_succ_len == 1) and (not len((set(n2_pre_nodes) - set([n1])) & set(n1_pre_nodes))):\n",
    "                    return [(n1, n2, 'pre')]\n",
    "                if (n2_pre_len == 1) and (not len((set(n1_succ_nodes) - set([n2])) & set(n2_succ_nodes))):\n",
    "                    return [(n1, n2, 'succ')]\n",
    "                if n1_pre_len == n2_succ_len:\n",
    "                    continue\n",
    "    return [(None, None, _type)]"
   ]
  },
  {
   "cell_type": "code",
   "execution_count": null,
   "id": "c286fe3b",
   "metadata": {
    "code_folding": []
   },
   "outputs": [],
   "source": [
    "def remove_clique_epsilon_edges(graph_data, to_remove_edges, nodes_data, in_node, out_node, type_):\n",
    "    \"\"\"\n",
    "    Removes epsilon edges that form a subgraph altogether.\n",
    "    \"\"\"\n",
    "    other_nodes = nodes_data - set([in_node, out_node])\n",
    "    for n1, n2 in to_remove_edges:\n",
    "        graph_data.remove_edge(n1, n2)\n",
    "    for node_data in other_nodes:\n",
    "        other_pre_nodes = set(graph_data.predecessors(node_data)) - nodes_data\n",
    "        for node_x in other_pre_nodes:\n",
    "            graph_data.add_edge(node_x, out_node, label=graph_data[node_x][node_data]['label'])\n",
    "        graph_data.remove_node(node_data)\n",
    "    graph_data.add_edge(in_node, out_node, label=\"ep\")\n",
    "    return graph_data"
   ]
  },
  {
   "cell_type": "code",
   "execution_count": null,
   "id": "e8fddf0c",
   "metadata": {
    "code_folding": []
   },
   "outputs": [],
   "source": [
    "def remove_clique_epsilons(graph_data, dir_):\n",
    "    \"\"\"\n",
    "    Helper function which calculates which subgraphs form epislon stack and sends them to remove them accordingly.\n",
    "    \"\"\"\n",
    "    edges_data = [(n1, n2) for n1, n2 in graph_data.edges() if graph_data[n1][n2]['label'] == 'ep']\n",
    "    edge_graph_data = graph_data.edge_subgraph(edges_data)\n",
    "    T = edge_graph_data.to_undirected()\n",
    "    success = False\n",
    "    for dc_graph_nodes in nx.connected_components(T):\n",
    "        dc_graph = edge_graph_data.subgraph(dc_graph_nodes)\n",
    "        in_nodes, out_nodes = get_degree_nodes(dc_graph)\n",
    "        non_epsilon = None\n",
    "        if (len(in_nodes) == 1) and (len(out_nodes) == 1) and (len(dc_graph.edges()) > 1):\n",
    "            in_node, out_node = in_nodes[0], out_nodes[0]\n",
    "            failed = False\n",
    "            other_nodes = dc_graph_nodes - set([in_node, out_node])\n",
    "            for other_node in other_nodes:\n",
    "                node_failure = False\n",
    "                for node_x in graph_data.successors(other_node):\n",
    "                    if graph_data[other_node][node_x]['label'] != 'ep':\n",
    "                        node_failure = True\n",
    "                        failed = True\n",
    "                        break\n",
    "                if node_failure:\n",
    "                    break\n",
    "                for node_x in graph_data.predecessors(other_node):\n",
    "                    if graph_data[node_x][other_node]['label'] != 'ep':\n",
    "                        node_failure = True\n",
    "                        failed = True\n",
    "                        break\n",
    "                if node_failure:\n",
    "                    break\n",
    "            if failed:\n",
    "                continue\n",
    "            for data in nx.all_simple_edge_paths(graph_data, in_nodes[0], out_nodes[0]):\n",
    "                for new_n1, new_n2 in data:\n",
    "                    if graph_data[new_n1][new_n2]['label'] != 'ep':\n",
    "                        non_epsilon = True\n",
    "                        break\n",
    "                if non_epsilon:\n",
    "                    break\n",
    "        else:\n",
    "            non_epsilon = True\n",
    "        if non_epsilon:\n",
    "            continue\n",
    "        success = True\n",
    "        return remove_clique_epsilon_edges(graph_data, list(dc_graph.edges()), dc_graph_nodes, in_nodes[0], out_nodes[0], 'undir'), False\n",
    "    if (not success) and dir_:\n",
    "        imp_data = [data for data in list(nx.strongly_connected_components(edge_graph_data)) if len(data) > 1 ]\n",
    "        for imp_nodes_data in imp_data:\n",
    "            directed_graph = graph_data.subgraph(imp_nodes_data)\n",
    "            in_node, out_node = None, None\n",
    "            for node_data in imp_nodes_data:\n",
    "                succ_data = set(graph_data.successors(node_data))\n",
    "                pre_data = set(graph_data.predecessors(node_data))\n",
    "                if len(succ_data - imp_nodes_data):\n",
    "                    out_node = node_data\n",
    "                if (out_node != node_data) and len(pre_data - imp_nodes_data):\n",
    "                    in_node = node_data\n",
    "            if (in_node is not None) and (out_node is not None):\n",
    "                return remove_clique_epsilon_edges(graph_data, list(directed_graph.edges()), imp_nodes_data, in_node, out_node, 'dir'), True\n",
    "    return graph_data, False"
   ]
  },
  {
   "cell_type": "code",
   "execution_count": null,
   "id": "01b62d8c",
   "metadata": {
    "code_folding": []
   },
   "outputs": [],
   "source": [
    "def is_epsilon_removal_possible(graph_data, dir_=True):\n",
    "    \"\"\"\n",
    "    Functions which calls the required epsilon removal functions..\n",
    "    \"\"\"\n",
    "    current_count = 0\n",
    "    changed = False\n",
    "    status = True\n",
    "    while status:\n",
    "        graph_data, status = remove_clique_epsilons(graph_data, dir_=dir_)\n",
    "        if (not status) and current_count:\n",
    "            changed = True\n",
    "        current_count += 1\n",
    "    return graph_data, changed"
   ]
  },
  {
   "cell_type": "markdown",
   "id": "4a9bc4c2",
   "metadata": {},
   "source": [
    "### Program Start"
   ]
  },
  {
   "cell_type": "code",
   "execution_count": null,
   "id": "e0977661",
   "metadata": {},
   "outputs": [],
   "source": [
    "exe_file_name = os.environ.get('EXE_FILE', None)\n",
    "if exe_file_name is None:\n",
    "    print('Missing executable file name..')"
   ]
  },
  {
   "cell_type": "code",
   "execution_count": null,
   "id": "2da5ab41",
   "metadata": {
    "code_folding": [
     3
    ]
   },
   "outputs": [],
   "source": [
    "final_data = {}\n",
    "global_label_data = {}\n",
    "resolution_func_data = {}\n",
    "resolved_data = []\n",
    "counter2 = 0\n",
    "global_address_counter = 0\n",
    "valid_sys_calls = '''read,write,open,close,stat,fstat,lstat,poll,lseek,mmap,mprotect,munmap,brk,rt_sigaction,rt_sigprocmask,rt_sigreturn,ioctl,pread64,pwrite64,readv,writev,access,pipe,select,sched_yield,mremap,msync,mincore,madvise,shmget,shmat,shmctl,dup,dup2,pause,nanosleep,getitimer,alarm,setitimer,getpid,sendfile,socket,connect,accept,sendto,recvfrom,sendmsg,recvmsg,shutdown,bind,listen,getsockname,getpeername,socketpair,setsockopt,getsockopt,clone,fork,vfork,execve,exit,wait4,kill,uname,semget,semop,semctl,shmdt,msgget,msgsnd,msgrcv,msgctl,fcntl,flock,fsync,fdatasync,truncate,ftruncate,getdents,getcwd,chdir,fchdir,rename,mkdir,rmdir,creat,link,unlink,symlink,readlink,chmod,fchmod,chown,fchown,lchown,umask,gettimeofday,getrlimit,getrusage,sysinfo,times,ptrace,getuid,syslog,getgid,setuid,setgid,geteuid,getegid,setpgid,getppid,getpgrp,setsid,setreuid,setregid,getgroups,setgroups,setresuid,getresuid,setresgid,getresgid,getpgid,setfsuid,setfsgid,getsid,capget,capset,rt_sigpending,rt_sigtimedwait,rt_sigqueueinfo,rt_sigsuspend,sigaltstack,utime,mknod,uselib,personality,ustat,statfs,fstatfs,sysfs,getpriority,setpriority,sched_setparam,sched_getparam,sched_setscheduler,sched_getscheduler,sched_get_priority_max,sched_get_priority_min,sched_rr_get_interval,mlock,munlock,mlockall,munlockall,vhangup,modify_ldt,pivot_root,_sysctl,prctl,arch_prctl,adjtimex,setrlimit,chroot,sync,acct,settimeofday,mount,umount2,swapon,swapoff,reboot,sethostname,setdomainname,iopl,ioperm,create_module,init_module,delete_module,get_kernel_syms,query_module,quotactl,nfsservctl,getpmsg,putpmsg,afs_syscall,tuxcall,security,gettid,readahead,setxattr,lsetxattr,fsetxattr,getxattr,lgetxattr,fgetxattr,listxattr,llistxattr,flistxattr,removexattr,lremovexattr,fremovexattr,tkill,time,futex,sched_setaffinity,sched_getaffinity,set_thread_area,io_setup,io_destroy,io_getevents,io_submit,io_cancel,get_thread_area,lookup_dcookie,epoll_create,epoll_ctl_old,epoll_wait_old,remap_file_pages,getdents64,set_tid_address,restart_syscall,semtimedop,fadvise64,timer_create,timer_settime,timer_gettime,timer_getoverrun,timer_delete,clock_settime,clock_gettime,clock_getres,clock_nanosleep,exit_group,epoll_wait,epoll_ctl,tgkill,utimes,vserver,mbind,set_mempolicy,get_mempolicy,mq_open,mq_unlink,mq_timedsend,mq_timedreceive,mq_notify,mq_getsetattr,kexec_load,waitid,add_key,request_key,keyctl,ioprio_set,ioprio_get,inotify_init,inotify_add_watch,inotify_rm_watch,migrate_pages,openat,mkdirat,mknodat,fchownat,futimesat,newfstatat,unlinkat,renameat,linkat,symlinkat,readlinkat,fchmodat,faccessat,pselect6,ppoll,unshare,set_robust_list,get_robust_list,splice,tee,sync_file_range,vmsplice,move_pages,utimensat,epoll_pwait,signalfd,timerfd_create,eventfd,fallocate,timerfd_settime,timerfd_gettime,accept4,signalfd4,eventfd2,epoll_create1,dup3,pipe2,inotify_init1,preadv,pwritev,rt_tgsigqueueinfo,perf_event_open,recvmmsg,fanotify_init,fanotify_mark,prlimit64,name_to_handle_at,open_by_handle_at,clock_adjtime,syncfs,sendmmsg,setns,getcpu,process_vm_readv,process_vm_writev,kcmp,finit_module,sched_setattr,sched_getattr,renameat2,seccomp,getrandom,memfd_create,kexec_file_load,bpf,execveat,userfaultfd,membarrier,mlock2,copy_file_range,preadv2,pwritev2,pkey_mprotect,pkey_alloc,pkey_free,statx'''.split(',')\n",
    "valid_sys_calls = set(valid_sys_calls)\n",
    "different_jumps = ['call', 'jmp', 'jo', 'jno', 'js', 'jns', 'je',\n",
    "                   'jz', 'jne', 'jnz', 'jb', 'jnae', 'jc', 'jnb',\n",
    "                   'jae', 'jnc', 'jbe', 'jna', 'ja', 'jnbe', 'jle',\n",
    "                   'jnge', 'jge', 'jnl', 'jl', 'jng', 'jg', 'jnle'\n",
    "                  'jp', 'jpe', 'jnp', 'jpo', 'jcxz', 'jecxz', 'jrcxz']\n",
    "different_jumps.sort(key = lambda x: (-len(x), x))\n",
    "jumps_string = '|'.join(different_jumps)"
   ]
  },
  {
   "cell_type": "code",
   "execution_count": null,
   "id": "da951fc7",
   "metadata": {},
   "outputs": [],
   "source": [
    "print('Starting angr binary analysis')\n",
    "start_time = time()\n",
    "proj = angr.Project(exe_file_name, auto_load_libs=False)\n",
    "cfg = proj.analyses.CFGFast(normalize=True)\n",
    "print(f'Finished getting data from angr.. in {time()-start_time}')"
   ]
  },
  {
   "cell_type": "code",
   "execution_count": null,
   "id": "b6b3fa67",
   "metadata": {},
   "outputs": [],
   "source": [
    "functions = cfg.functions.values()\n",
    "graph = cfg.graph.copy()"
   ]
  },
  {
   "cell_type": "code",
   "execution_count": null,
   "id": "991ff262",
   "metadata": {},
   "outputs": [],
   "source": [
    "valid_func_nodes, valid_func_node_names = get_valid_func_nodes(functions, valid_sys_calls)\n",
    "func_addr_mapping = {}\n",
    "for func_node in valid_func_nodes:\n",
    "    f_name, f_addr = func_node.name, func_node.addr\n",
    "    func_addr_mapping[f_name] = func_addr_mapping.get(f_name, []) + [f_addr]"
   ]
  },
  {
   "cell_type": "code",
   "execution_count": null,
   "id": "4e7e899c",
   "metadata": {},
   "outputs": [],
   "source": [
    "sys_calls = []\n",
    "sys_calls_names = set()\n",
    "sys_call_nodes = []\n",
    "syscall_addr_mapping = {}\n",
    "for node in graph.nodes:\n",
    "    if node.is_syscall:\n",
    "        sys_calls_names.add(f'{node.name}_syscall')\n",
    "        sys_calls.append(f'{node}_syscall')\n",
    "        sys_call_nodes.append(node)\n",
    "        syscall_addr_mapping[node.name] = node.addr\n",
    "assert len(sys_calls_names) == len(sys_calls)"
   ]
  },
  {
   "cell_type": "code",
   "execution_count": null,
   "id": "88f6f167",
   "metadata": {
    "code_folding": []
   },
   "outputs": [],
   "source": [
    "'''\n",
    "Starting from the main function we are trying to resolve all the functions that are dependent on main\n",
    "This process is repeated till we no longer see a function that is resolved.\n",
    "Basically for every function we will be getting its high-level functions graph structure\n",
    "'''\n",
    "start_func = 'main'\n",
    "to_resolve = [f'{start_func}-{func_addr_mapping[start_func][0]}']\n",
    "visited = set()\n",
    "while True:\n",
    "    if not len(to_resolve):\n",
    "        break\n",
    "    current_func = to_resolve.pop(0)\n",
    "    if current_func in visited:\n",
    "        continue\n",
    "    visited.add(current_func)\n",
    "    f_name, f_addr = current_func.split('-')\n",
    "    func_func_node = get_node_with_func_name(cfg, f_name, f_addr)\n",
    "    if func_func_node.is_syscall:\n",
    "        resolved_data.append(f'{current_func}')\n",
    "        continue\n",
    "    current_label_data, node_to_resolve = get_graph_label_data(cfg, current_func, valid_func_node_names, func_addr_mapping, syscall_addr_mapping)\n",
    "    if len(node_to_resolve) == 0:\n",
    "        resolved_data.append(f'{current_func}')\n",
    "    else:\n",
    "        for func_name in node_to_resolve:\n",
    "            resolution_func_data[func_name] = resolution_func_data.get(func_name, set()) | {current_func}\n",
    "        to_resolve += list(node_to_resolve)\n",
    "    final_func_graph, temp_l_d = merge_graph(func_func_node.subgraph(current_label_data.keys()), current_label_data, current_func)\n",
    "    current_label_data = {key: value for key, value in current_label_data.items() if key in final_func_graph.nodes()}\n",
    "    global_label_data = {**global_label_data, **current_label_data, **temp_l_d}\n",
    "    final_data[f'{current_func}'] = {'graph': final_func_graph, 'to_resolve': node_to_resolve}"
   ]
  },
  {
   "cell_type": "code",
   "execution_count": null,
   "id": "57039c09",
   "metadata": {
    "code_folding": [],
    "scrolled": true
   },
   "outputs": [],
   "source": [
    "'''\n",
    "Removing epsilon edges function based\n",
    "'''\n",
    "changed = True\n",
    "while changed:\n",
    "    changed = False\n",
    "    status1 = False\n",
    "    status2 = False\n",
    "    for key, value in final_data.items():\n",
    "        final_data[key]['graph'], c_status1 = remove_epsilon_nodes(final_data[key]['graph'])\n",
    "        final_data[key]['graph'], c_status2 = is_epsilon_removal_possible(final_data[key]['graph'])\n",
    "        if c_status1:\n",
    "            status1 = True\n",
    "        if c_status2:\n",
    "            status2 = True\n",
    "    changed = changed or status1 or status2"
   ]
  },
  {
   "cell_type": "code",
   "execution_count": null,
   "id": "9185dd4e",
   "metadata": {},
   "outputs": [],
   "source": [
    "count_data = Counter([f_name.split('-')[0] for f_name in final_data.keys()])\n",
    "data = {name for name, value in count_data.items() if value > 1}\n",
    "ignore_list = {name for name in final_data.keys() if name.split('-')[0] in data}"
   ]
  },
  {
   "cell_type": "code",
   "execution_count": null,
   "id": "2d30cf71",
   "metadata": {},
   "outputs": [],
   "source": [
    "# final_data :- \n",
    "#     Dict which contains key (func_data), value is a dict\n",
    "#     value :- key1 (graph),value contains the di-graph object\n",
    "#              key2 (to_resolve), value contains all the funcs by func_data\n",
    "#     Ex :- {'main-4200660': {'graph': <networkx.classes.digraph.DiGraph at 0x7fffc01c4730>,\n",
    "#                             'to_resolve': {'_IO_printf-4234848', 'foo-4200555'}}\n",
    "\n",
    "# global_label_data :- \n",
    "#     key(add), value (correpsonding node value)\n",
    "#     Ex :- {0x4018f2: 'foo-4200555'}\n",
    "    \n",
    "# resolution_func_data :- \n",
    "#     Contains data of functions that can be resolved if the key is already resolved.\n",
    "#     Ex :- {'_IO_printf-4234848': {'bar-4200405', 'main-4200660'}} If _IO_printf is already we \n",
    "#     can resolve the main and bar as they contain call to _IO_printf\n",
    "\n",
    "# resolved_data :- \n",
    "#     List of all functions names that are resolved (includes sys_calls)\n",
    "#     Ex :-['futex-7340619', 'close-7340420']"
   ]
  },
  {
   "cell_type": "raw",
   "id": "8d86f223",
   "metadata": {},
   "source": [
    "# Analysis Part"
   ]
  },
  {
   "cell_type": "code",
   "execution_count": null,
   "id": "a8ba3110",
   "metadata": {},
   "outputs": [],
   "source": [
    "info_data = {}\n",
    "number_of_graphs = {}\n",
    "for key, value in final_data.items():\n",
    "    G = value['graph']\n",
    "    s_value = nx.number_connected_components(G.to_undirected())\n",
    "    in_nodes, out_nodes = get_degree_nodes(G)\n",
    "    if s_value > 1:\n",
    "        number_of_graphs[key] = s_value\n",
    "    if (len(in_nodes) > 1) or (len(out_nodes) > 1) or (not (len(in_nodes) or len(out_nodes))):\n",
    "        info_data[key] = {'in_nodes': len(in_nodes), 'out_nodes': len(out_nodes)}"
   ]
  },
  {
   "cell_type": "code",
   "execution_count": null,
   "id": "e0428c7d",
   "metadata": {},
   "outputs": [],
   "source": [
    "'''\n",
    "Starting with the resolved functions which no longer have any dependencies we loop through and\n",
    "try to resolve other functions which can be resolved through the already resolved functions\n",
    "'''\n",
    "non_syscall_resolved = []\n",
    "while (resolved_data != []):\n",
    "    resolved_func = resolved_data.pop(0)\n",
    "    resolved_func_data = final_data.get(resolved_func, None)\n",
    "    if resolved_func_data is None:\n",
    "        # system call edge replacemenet\n",
    "        funcs_data = resolution_func_data[resolved_func]\n",
    "        for func_value in funcs_data:\n",
    "            graph_data = copy.deepcopy(final_data[func_value]['graph'])\n",
    "            updated_graph = replace_edge_label(graph_data, resolved_func, global_label_data, ignore_list)\n",
    "            final_data[func_value]['graph'] = updated_graph\n",
    "            final_data[func_value]['to_resolve'].remove(resolved_func)\n",
    "        del resolution_func_data[resolved_func]\n",
    "    else:\n",
    "        non_syscall_resolved.append(resolved_func)"
   ]
  },
  {
   "cell_type": "code",
   "execution_count": null,
   "id": "5a8972ab",
   "metadata": {
    "code_folding": []
   },
   "outputs": [],
   "source": [
    "# Fixing Self loops so they can be used while traversing properly.\n",
    "for key, value in final_data.items():\n",
    "    graph_data = final_data[key]['graph']\n",
    "    node_values = list(nx.nodes_with_selfloops(graph_data))\n",
    "    fix_number = 0\n",
    "    for node in node_values:\n",
    "        label_value = graph_data[node][node][\"label\"]\n",
    "        pre_data = (set(graph_data.predecessors(node)) - set([node]))\n",
    "        succ_data = (set(graph_data.successors(node)) - set([node]))\n",
    "        node1_name, func_name = f'{key}_ep{fix_number}', f'{key}_func{fix_number}',\n",
    "        fix_number += 1\n",
    "        graph_data.add_nodes_from([node1_name, func_name])\n",
    "        graph_data.add_edge(node1_name, func_name, label=label_value)\n",
    "        graph_data.add_edge(func_name, node1_name, label='ep')\n",
    "        if pre_data:\n",
    "            for pre_node in pre_data:\n",
    "                pre_label_value = graph_data[pre_node][node]['label']\n",
    "                graph_data.add_edge(pre_node, node1_name, label=pre_label_value)\n",
    "                graph_data.remove_edge(pre_node, node)\n",
    "        else:\n",
    "            graph_data.add_node('start')\n",
    "            graph_data.add_edge('start', node1_name, label='ep')\n",
    "        if succ_data:\n",
    "            for succ_node in succ_data:\n",
    "                succ_label_value = graph_data[node][succ_node]['label']\n",
    "                graph_data.add_edge(node1_name, succ_node,label=succ_label_value)\n",
    "                graph_data.remove_edge(node, succ_node)  \n",
    "        else:\n",
    "            graph_data.add_node('end')\n",
    "            graph_data.add_edge(func_name, 'end', label='ep')\n",
    "        graph_data.remove_node(node)\n",
    "        final_data[key]['graph'] = graph_data"
   ]
  },
  {
   "cell_type": "code",
   "execution_count": null,
   "id": "00ae3aac",
   "metadata": {},
   "outputs": [],
   "source": [
    "'''\n",
    "Saving the graph_data\n",
    "'''\n",
    "final_graph_data = {}\n",
    "for key, value in final_data.items():\n",
    "    final_graph_data[key] = value['graph']\n",
    "store_as_list_of_dicts(exe_file_name, final_graph_data)"
   ]
  }
 ],
 "metadata": {
  "kernelspec": {
   "display_name": "control",
   "language": "python",
   "name": "control"
  },
  "language_info": {
   "codemirror_mode": {
    "name": "ipython",
    "version": 3
   },
   "file_extension": ".py",
   "mimetype": "text/x-python",
   "name": "python",
   "nbconvert_exporter": "python",
   "pygments_lexer": "ipython3",
   "version": "3.10.7"
  }
 },
 "nbformat": 4,
 "nbformat_minor": 5
}
